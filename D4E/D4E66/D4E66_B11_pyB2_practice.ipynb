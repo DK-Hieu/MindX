{
 "cells": [
  {
   "cell_type": "code",
   "execution_count": 4,
   "metadata": {},
   "outputs": [
    {
     "name": "stdout",
     "output_type": "stream",
     "text": [
      "Tổng số từ 1 đến 3 =  6\n"
     ]
    }
   ],
   "source": [
    "\"\"\" Viết một hàm tinh_tong(n) nhận vào một số nguyên dương n \n",
    "sau đó tính tổng các số từ 1 đến n. \"\"\"\n",
    "\n",
    "n = int(input('Nhập n > 0: ', ))\n",
    "\n",
    "while n <= 0:\n",
    "    n = int(input('Nhập n > 0: '))\n",
    "\n",
    "sum = 0\n",
    "for i in range(1,n+1):\n",
    "    sum += i\n",
    "\n",
    "print('Tổng số từ 1 đến {} = '.format(n), sum)"
   ]
  },
  {
   "cell_type": "code",
   "execution_count": 5,
   "metadata": {},
   "outputs": [
    {
     "name": "stdout",
     "output_type": "stream",
     "text": [
      "Tổng số các số chẵn từ 1 đến 6 =  12\n"
     ]
    }
   ],
   "source": [
    "\"\"\" Viết một hàm tinh_tong_chan(n) nhận vào một số nguyên dương n \n",
    "sau đó tính tổng các số chẵn từ 1 đến n.\n",
    "\"\"\"\n",
    "\n",
    "n = int(input('Nhập n > 0: ', ))\n",
    "\n",
    "while n <= 0:\n",
    "    n = int(input('Nhập n > 0: '))\n",
    "\n",
    "sum = 0\n",
    "for i in range(1,n+1):\n",
    "    if i % 2 == 0:\n",
    "        sum += i\n",
    "    else:\n",
    "        pass\n",
    "\n",
    "print('Tổng số các số chẵn từ 1 đến {} = '.format(n), sum)"
   ]
  },
  {
   "cell_type": "code",
   "execution_count": 18,
   "metadata": {},
   "outputs": [
    {
     "name": "stdout",
     "output_type": "stream",
     "text": [
      "[-1, -2, -3, -4, -5, -6, -7, -8, -9, -10]\n"
     ]
    },
    {
     "data": {
      "text/plain": [
       "-1"
      ]
     },
     "execution_count": 18,
     "metadata": {},
     "output_type": "execute_result"
    }
   ],
   "source": [
    "\"\"\" Viết một hàm tim_so_lon_nhat(danh_sach) nhận vào một danh sách chứa 10\n",
    "số được nhập vào từ bàn phím. Sau đó trả về số lớn nhất trong danh sách\n",
    "\"\"\"\n",
    "\n",
    "\"\"\" Cách 1: Nhập số lượng số cần nhập trước và nhập từng số vào list \"\"\"\n",
    "\n",
    "n = int(input('Nhập số lượng số mà list cần: '))\n",
    "\n",
    "listso = []\n",
    "\n",
    "for i in range(0,n):\n",
    "    a = float(input('Nhập số thứ {}: '.format(i+1)))\n",
    "    listso.append(a)\n",
    "\n",
    "maxso = listso[0]\n",
    "\n",
    "for i in listso:\n",
    "    if i > maxso:\n",
    "        maxso = i\n",
    "    else:\n",
    "        pass\n",
    "\n",
    "print(listso)\n",
    "print(\"SỐ LỚN NHẤT: \", maxso)\n",
    "\n",
    "################################################################################\n",
    "\n",
    "\"\"\" Cách 2: Nhập một dãy số gồm 10 số VD: 1,2,3,4,5,6...\n",
    "    Nếu nhập thiếu số sẽ yêu cầu nhập lại\n",
    "\"\"\"\n",
    "\n",
    "list_str = input('Nhập một dãy số chứa 10 chữ số: ')\n",
    "\n",
    "list_fm1 = list_str.split(',')\n",
    "list = [eval(i) for i in list_fm1]\n",
    "\n",
    "while len(list) < 10:\n",
    "    list_str = input('Nhập thiếu số vui lòng nhập dãy số chứa 10 chữ số: ')\n",
    "\n",
    "    list_fm1 = list_str[0].split(',')\n",
    "    list = [eval(i) for i in list_fm1]\n",
    "\n",
    "maxso = list[0]\n",
    "\n",
    "for i in list:\n",
    "    if i > maxso:\n",
    "        maxso = i\n",
    "    else:\n",
    "        pass\n",
    "    \n",
    "print(list)\n",
    "print('Số lớn nhất: ',maxso)\n"
   ]
  },
  {
   "cell_type": "code",
   "execution_count": 19,
   "metadata": {},
   "outputs": [
    {
     "name": "stdout",
     "output_type": "stream",
     "text": [
      "[-1, -2, -3, -4, -5, -6, -7, -8, -9, -10]\n"
     ]
    },
    {
     "data": {
      "text/plain": [
       "-10"
      ]
     },
     "execution_count": 19,
     "metadata": {},
     "output_type": "execute_result"
    }
   ],
   "source": [
    "\"\"\" Viết một hàm tim_so_be_nhat(danh_sach) nhận vào một danh sách chứa 10\n",
    "số được nhập vào từ bàn phím. Sau đó trả về số bé nhất trong danh sách.\n",
    "\"\"\"\n",
    "\n",
    "list_str = input('Nhập một dãy số chứa 10 chữ số: ')\n",
    "\n",
    "list_fm1 = list_str.split(',')\n",
    "list = [eval(i) for i in list_fm1]\n",
    "\n",
    "while len(list) < 10:\n",
    "    list_str = input('Nhập thiếu số vui lòng nhập dãy số chứa 10 chữ số: ')\n",
    "\n",
    "    list_fm1 = list_str[0].split(',')\n",
    "    list = [eval(i) for i in list_fm1]\n",
    "\n",
    "minso = list[0]\n",
    "\n",
    "for i in list:\n",
    "    if i < minso:\n",
    "        minso = i\n",
    "    else:\n",
    "        pass\n",
    "    \n",
    "print(list)\n",
    "minso\n"
   ]
  },
  {
   "cell_type": "code",
   "execution_count": 31,
   "metadata": {},
   "outputs": [
    {
     "data": {
      "text/plain": [
       "4"
      ]
     },
     "execution_count": 31,
     "metadata": {},
     "output_type": "execute_result"
    }
   ],
   "source": [
    "\"\"\" Viết một hàm dem_so_chu_so(n) nhận vào một số nguyên dương n và đếm số chữ số của n \"\"\"\n",
    "\n",
    "n = int(input('Nhập số ngiuyên dương: '))\n",
    "\n",
    "while n < 0:\n",
    "    n = int(input('Nhập số > 0: '))\n",
    "    \n",
    "len(str(n))"
   ]
  },
  {
   "cell_type": "markdown",
   "metadata": {},
   "source": [
    "# Làm theo Defunction"
   ]
  },
  {
   "cell_type": "code",
   "execution_count": 4,
   "metadata": {},
   "outputs": [],
   "source": [
    "def input_songuyenduong():\n",
    "    n = int(input('Nhập n > 0: ', ))\n",
    "    while n <= 0:\n",
    "        n = int(input('Nhập n > 0: '))\n",
    "    return n"
   ]
  },
  {
   "cell_type": "code",
   "execution_count": 6,
   "metadata": {},
   "outputs": [
    {
     "data": {
      "text/plain": [
       "<function __main__.input_songuyenduong()>"
      ]
     },
     "execution_count": 6,
     "metadata": {},
     "output_type": "execute_result"
    }
   ],
   "source": [
    "\"\"\" Viết một hàm tinh_tong(n) nhận vào một số nguyên dương n \n",
    "sau đó tính tổng các số từ 1 đến n. \"\"\"\n",
    "\n",
    "n = input_songuyenduong()\n",
    "\n",
    "sum = 0\n",
    "for i in range(1,n+1):\n",
    "    sum += i\n",
    "\n",
    "print('Tổng số từ 1 đến {} = '.format(n), sum)\n"
   ]
  },
  {
   "cell_type": "code",
   "execution_count": null,
   "metadata": {},
   "outputs": [],
   "source": [
    "\"\"\" Viết một hàm tinh_tong_chan(n) nhận vào một số nguyên dương n \n",
    "sau đó tính tổng các số chẵn từ 1 đến n.\n",
    "\"\"\"\n",
    "\n",
    "n = input_songuyenduong()\n",
    "\n",
    "sum = 0\n",
    "for i in range(1,n+1):\n",
    "    if i % 2 == 0:\n",
    "        sum += i\n",
    "    else:\n",
    "        pass\n",
    "\n",
    "print('Tổng số các số chẵn từ 1 đến {} = '.format(n), sum)"
   ]
  },
  {
   "cell_type": "code",
   "execution_count": 7,
   "metadata": {},
   "outputs": [],
   "source": [
    "def nhaplistC1():\n",
    "    \"\"\" Nhập theo kiểu từng số một\n",
    "\n",
    "    Returns:\n",
    "        list: trả lãi list [1,2,3,4,5]\n",
    "    \"\"\"    \n",
    "    n = int(input('Nhập số lượng số mà list cần: '))\n",
    "    listso = []\n",
    "    for i in range(0,n):\n",
    "        a = float(input('Nhập số thứ {}: '.format(i+1)))\n",
    "        listso.append(a)\n",
    "    return listso\n",
    "\n",
    "\n",
    "def nhaplistC2(): \n",
    "    \"\"\" Nhập theo kiểu 1,2,3,4\n",
    "\n",
    "    Returns:\n",
    "        list: trả lãi list kiểu [1,2,3,4,5]\n",
    "    \"\"\"    \n",
    "    n = int(input('Nhập số lượng số mà list cần: '))\n",
    "    list_str = input('Nhập một dãy số chứa 10 chữ số: ')\n",
    "    list_fm1 = list_str.split(',')\n",
    "    list = [eval(i) for i in list_fm1]\n",
    "    while len(list) < n:\n",
    "        list_str = input('Nhập thiếu số vui lòng nhập dãy số chứa 10 chữ số: ')\n",
    "        list_fm1 = list_str[0].split(',')\n",
    "        list = [eval(i) for i in list_fm1]\n",
    "    return list\n"
   ]
  },
  {
   "cell_type": "code",
   "execution_count": 8,
   "metadata": {},
   "outputs": [
    {
     "data": {
      "text/plain": [
       "[1, 2, 3]"
      ]
     },
     "execution_count": 8,
     "metadata": {},
     "output_type": "execute_result"
    }
   ],
   "source": [
    "\"\"\" Viết một hàm tim_so_lon_nhat(danh_sach) nhận vào một danh sách chứa 10\n",
    "số được nhập vào từ bàn phím. Sau đó trả về số lớn nhất trong danh sách\n",
    "\"\"\"\n",
    "\n",
    "list = nhaplistC1() # cách 1\n",
    "\n",
    "list = nhaplistC2() # cách 2\n",
    "\n",
    "maxso = list[0]\n",
    "\n",
    "for i in list:\n",
    "    if i > maxso:\n",
    "        maxso = i\n",
    "    else:\n",
    "        pass\n",
    "    \n",
    "print(list)\n",
    "print('Số lớn nhất: ',maxso)\n"
   ]
  },
  {
   "cell_type": "code",
   "execution_count": null,
   "metadata": {},
   "outputs": [],
   "source": [
    "\"\"\" Viết một hàm tim_so_be_nhat(danh_sach) nhận vào một danh sách chứa 10\n",
    "số được nhập vào từ bàn phím. Sau đó trả về số bé nhất trong danh sách.\n",
    "\"\"\"\n",
    "\n",
    "list = nhaplistC1() # cách 1\n",
    "\n",
    "list = nhaplistC2() # cách 2\n",
    "\n",
    "minso = list[0]\n",
    "\n",
    "for i in list:\n",
    "    if i < minso:\n",
    "        minso = i\n",
    "    else:\n",
    "        pass\n",
    "    \n",
    "print(list)\n",
    "minso"
   ]
  }
 ],
 "metadata": {
  "kernelspec": {
   "display_name": "vscode",
   "language": "python",
   "name": "python3"
  },
  "language_info": {
   "codemirror_mode": {
    "name": "ipython",
    "version": 3
   },
   "file_extension": ".py",
   "mimetype": "text/x-python",
   "name": "python",
   "nbconvert_exporter": "python",
   "pygments_lexer": "ipython3",
   "version": "3.9.7"
  }
 },
 "nbformat": 4,
 "nbformat_minor": 2
}
