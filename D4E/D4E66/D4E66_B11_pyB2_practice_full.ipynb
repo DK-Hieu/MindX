{
 "cells": [
  {
   "cell_type": "code",
   "execution_count": 4,
   "metadata": {},
   "outputs": [
    {
     "name": "stdout",
     "output_type": "stream",
     "text": [
      "Tổng số từ 1 đến 3 =  6\n"
     ]
    }
   ],
   "source": [
    "\"\"\" Viết một hàm tinh_tong(n) nhận vào một số nguyên dương n \n",
    "sau đó tính tổng các số từ 1 đến n. \"\"\"\n",
    "\n",
    "n = int(input('Nhập n > 0: ', ))\n",
    "\n",
    "while n <= 0:\n",
    "    n = int(input('Nhập n > 0: '))\n",
    "\n",
    "sum = 0\n",
    "for i in range(1,n+1):\n",
    "    sum += i\n",
    "\n",
    "print('Tổng số từ 1 đến {} = '.format(n), sum)"
   ]
  },
  {
   "cell_type": "code",
   "execution_count": 5,
   "metadata": {},
   "outputs": [
    {
     "name": "stdout",
     "output_type": "stream",
     "text": [
      "Tổng số các số chẵn từ 1 đến 6 =  12\n"
     ]
    }
   ],
   "source": [
    "\"\"\" Viết một hàm tinh_tong_chan(n) nhận vào một số nguyên dương n \n",
    "sau đó tính tổng các số chẵn từ 1 đến n.\n",
    "\"\"\"\n",
    "\n",
    "n = int(input('Nhập n > 0: ', ))\n",
    "\n",
    "while n <= 0:\n",
    "    n = int(input('Nhập n > 0: '))\n",
    "\n",
    "sum = 0\n",
    "for i in range(1,n+1):\n",
    "    if i % 2 == 0:\n",
    "        sum += i\n",
    "    else:\n",
    "        pass\n",
    "\n",
    "print('Tổng số các số chẵn từ 1 đến {} = '.format(n), sum)"
   ]
  },
  {
   "cell_type": "code",
   "execution_count": 18,
   "metadata": {},
   "outputs": [
    {
     "name": "stdout",
     "output_type": "stream",
     "text": [
      "[-1, -2, -3, -4, -5, -6, -7, -8, -9, -10]\n"
     ]
    },
    {
     "data": {
      "text/plain": [
       "-1"
      ]
     },
     "execution_count": 18,
     "metadata": {},
     "output_type": "execute_result"
    }
   ],
   "source": [
    "\"\"\" Viết một hàm tim_so_lon_nhat(danh_sach) nhận vào một danh sách chứa 10\n",
    "số được nhập vào từ bàn phím. Sau đó trả về số lớn nhất trong danh sách\n",
    "\"\"\"\n",
    "\n",
    "list_str = input('Nhập một dãy số chứa 10 chữ số: ')\n",
    "\n",
    "list_fm1 = list_str.split(',')\n",
    "list = [eval(i) for i in list_fm1]\n",
    "\n",
    "while len(list) < 10:\n",
    "    list_str = input('Nhập thiếu số vui lòng nhập dãy số chứa 10 chữ số: ')\n",
    "\n",
    "    list_fm1 = list_str[0].split(',')\n",
    "    list = [eval(i) for i in list_fm1]\n",
    "\n",
    "maxso = list[0]\n",
    "\n",
    "for i in list:\n",
    "    if i > maxso:\n",
    "        maxso = i\n",
    "    else:\n",
    "        pass\n",
    "    \n",
    "print(list)\n",
    "maxso\n"
   ]
  },
  {
   "cell_type": "code",
   "execution_count": 19,
   "metadata": {},
   "outputs": [
    {
     "name": "stdout",
     "output_type": "stream",
     "text": [
      "[-1, -2, -3, -4, -5, -6, -7, -8, -9, -10]\n"
     ]
    },
    {
     "data": {
      "text/plain": [
       "-10"
      ]
     },
     "execution_count": 19,
     "metadata": {},
     "output_type": "execute_result"
    }
   ],
   "source": [
    "\"\"\" Viết một hàm tim_so_be_nhat(danh_sach) nhận vào một danh sách chứa 10\n",
    "số được nhập vào từ bàn phím. Sau đó trả về số bé nhất trong danh sách.\n",
    "\"\"\"\n",
    "\n",
    "list_str = input('Nhập một dãy số chứa 10 chữ số: ')\n",
    "\n",
    "list_fm1 = list_str.split(',')\n",
    "list = [eval(i) for i in list_fm1]\n",
    "\n",
    "while len(list) < 10:\n",
    "    list_str = input('Nhập thiếu số vui lòng nhập dãy số chứa 10 chữ số: ')\n",
    "\n",
    "    list_fm1 = list_str[0].split(',')\n",
    "    list = [eval(i) for i in list_fm1]\n",
    "\n",
    "minso = list[0]\n",
    "\n",
    "for i in list:\n",
    "    if i < minso:\n",
    "        minso = i\n",
    "    else:\n",
    "        pass\n",
    "    \n",
    "print(list)\n",
    "minso\n"
   ]
  },
  {
   "cell_type": "code",
   "execution_count": 30,
   "metadata": {},
   "outputs": [
    {
     "name": "stdout",
     "output_type": "stream",
     "text": [
      "Sô 13 là số nguyên tố\n"
     ]
    },
    {
     "data": {
      "text/plain": [
       "1"
      ]
     },
     "execution_count": 30,
     "metadata": {},
     "output_type": "execute_result"
    }
   ],
   "source": [
    "\"\"\" Viết một hàm kiem_tra_so_nguyen_to(n) nhận vào một số nguyên dương n và kiểm tra xem n có phải là số nguyên tố hay không \"\"\"\n",
    "\n",
    "n = int(input())\n",
    "\n",
    "for i in range(2,n+1):\n",
    "    uocso = 0\n",
    "    for y in range(2,n+1):\n",
    "        if i % y == 0:\n",
    "            uocso += 1\n",
    "        else:\n",
    "            pass\n",
    "            \n",
    "if uocso > 1: \n",
    "    print('Sô {} không phải số nguyên tố'.format(n))\n",
    "else:\n",
    "    print('Sô {} là số nguyên tố'.format(n))\n"
   ]
  },
  {
   "cell_type": "code",
   "execution_count": 31,
   "metadata": {},
   "outputs": [
    {
     "data": {
      "text/plain": [
       "4"
      ]
     },
     "execution_count": 31,
     "metadata": {},
     "output_type": "execute_result"
    }
   ],
   "source": [
    "\"\"\" Viết một hàm dem_so_chu_so(n) nhận vào một số nguyên dương n và đếm số chữ số của n \"\"\"\n",
    "\n",
    "n = int(input('Nhập số ngiuyên dương: '))\n",
    "\n",
    "while n < 0:\n",
    "    n = int(input('Nhập số > 0: '))\n",
    "    \n",
    "len(str(n))"
   ]
  },
  {
   "cell_type": "code",
   "execution_count": 33,
   "metadata": {},
   "outputs": [
    {
     "data": {
      "text/plain": [
       "'asjdiwalwj!j24^sjd$'"
      ]
     },
     "execution_count": 33,
     "metadata": {},
     "output_type": "execute_result"
    }
   ],
   "source": [
    "# !,@,#,$,^\n",
    "\n",
    "\n",
    "s=str(input('Nhập chuỗi: '))\n",
    "s "
   ]
  },
  {
   "cell_type": "code",
   "execution_count": 37,
   "metadata": {},
   "outputs": [
    {
     "data": {
      "text/plain": [
       "['!', '@', '#', '$', '^']"
      ]
     },
     "execution_count": 37,
     "metadata": {},
     "output_type": "execute_result"
    }
   ],
   "source": [
    "a = ['!','@','#','$','^']\n",
    "a"
   ]
  },
  {
   "cell_type": "code",
   "execution_count": 43,
   "metadata": {},
   "outputs": [
    {
     "name": "stdout",
     "output_type": "stream",
     "text": [
      "!: yes\n",
      "@: no\n",
      "#: no\n",
      "$: yes\n",
      "^: yes\n"
     ]
    }
   ],
   "source": [
    "for i in a:\n",
    "    if i in s:\n",
    "        print('{}: yes'.format(i))\n",
    "    else:\n",
    "         print('{}: no'.format(i))   "
   ]
  },
  {
   "cell_type": "code",
   "execution_count": 42,
   "metadata": {},
   "outputs": [
    {
     "name": "stdout",
     "output_type": "stream",
     "text": [
      "no a\n",
      "no s\n",
      "no j\n",
      "no d\n",
      "no i\n",
      "no w\n",
      "no a\n",
      "no l\n",
      "no w\n",
      "no j\n",
      "yes !\n",
      "no j\n",
      "no 2\n",
      "no 4\n",
      "yes ^\n",
      "no s\n",
      "no j\n",
      "no d\n",
      "yes $\n"
     ]
    }
   ],
   "source": [
    "for i in s:\n",
    "    if i in a:\n",
    "        print('yes',i)\n",
    "    else:\n",
    "        print('no',i)"
   ]
  },
  {
   "cell_type": "code",
   "execution_count": 34,
   "metadata": {},
   "outputs": [
    {
     "name": "stdout",
     "output_type": "stream",
     "text": [
      "yes\n"
     ]
    }
   ],
   "source": [
    "if '!' in s or '@' in s or '#' in s or '$' in s or '^' in s:\n",
    "      print('yes')\n",
    "else:\n",
    "    print('No')"
   ]
  },
  {
   "cell_type": "code",
   "execution_count": 45,
   "metadata": {},
   "outputs": [
    {
     "name": "stdout",
     "output_type": "stream",
     "text": [
      "sum từ 1 đến 10 =  55\n"
     ]
    }
   ],
   "source": [
    "\"\"\" Viết một hàm tinh_tong(n) nhận vào một số nguyên dương n \n",
    "sau đó tính tổng các số từ 1 đến n.\n",
    "\"\"\"\n",
    "\n",
    "n = int(input('Nhập n là số nguyên dương: '))\n",
    "\n",
    "while n <= 0:\n",
    "    n = int(input('Nhập lại n là số > 0: '))\n",
    "\n",
    "sumso = 0\n",
    " \n",
    "for i in range(1,n+1):\n",
    "    sumso = sumso + i\n",
    "    \n",
    "print('sum từ 1 đến {} = '.format(n), sumso)"
   ]
  },
  {
   "cell_type": "code",
   "execution_count": 48,
   "metadata": {},
   "outputs": [
    {
     "data": {
      "text/plain": [
       "'ko phải số chẵn'"
      ]
     },
     "execution_count": 48,
     "metadata": {},
     "output_type": "execute_result"
    }
   ],
   "source": [
    "sochan(3)"
   ]
  },
  {
   "cell_type": "code",
   "execution_count": null,
   "metadata": {},
   "outputs": [],
   "source": [
    "\"\"\" Viết một hàm tinh_tong_chan(n) nhận vào một số nguyên dương n \n",
    "sau đó tính tổng các số chẵn từ 1 đến n.\n",
    "\"\"\"\n",
    "n = int(input('Nhập n là số nguyên dương: '))\n",
    "\n",
    "while n <= 0:\n",
    "    n = int(input('Nhập lại n là số > 0: '))\n",
    "\n",
    "sumsochan = 0\n",
    " \n",
    " \n",
    "# for i in range(1,n+1):\n",
    "#     if i % 2 == 0:\n",
    "#         sumsochan = sumsochan + i\n",
    "    \n",
    "# print('sum từ 1 đến {} = '.format(n), sumsochan)\n",
    "\n",
    "###############################################################\n",
    "\n",
    "def sochan(x):\n",
    "    if x % 2 == 0:\n",
    "        return True\n",
    "    else:\n",
    "        return False\n",
    "\n",
    "for i in range(1,n+1):\n",
    "    if sochan(i) == True:\n",
    "        sumsochan = sumsochan + i\n",
    "    \n",
    "print('sum từ 1 đến {} = '.format(n), sumsochan)"
   ]
  },
  {
   "cell_type": "code",
   "execution_count": 53,
   "metadata": {},
   "outputs": [],
   "source": [
    "\"\"\" Viết một hàm tim_so_lon_nhat(danh_sach) nhận vào một danh sách chứa 10\n",
    "số được nhập vào từ bàn phím. Sau đó trả về số lớn nhất trong danh sách\n",
    "\"\"\"\n",
    "\n",
    "n = int(input('Nhập số lượng số mà list cần: '))\n",
    "\n",
    "listso = []\n",
    "\n",
    "for i in range(0,n):\n",
    "    a = float(input('Nhập số thứ {}: '.format(i+1)))\n",
    "    listso.append(a)\n",
    "\n",
    "maxso = listso[0]\n",
    "\n",
    "for i in listso:\n",
    "    if i > maxso:\n",
    "        maxso = i\n",
    "    else:\n",
    "        pass\n",
    "    \n",
    "print(\"SỐ LỚN NHẤT: \", maxso)\n"
   ]
  },
  {
   "cell_type": "code",
   "execution_count": 56,
   "metadata": {},
   "outputs": [
    {
     "data": {
      "text/plain": [
       "4"
      ]
     },
     "execution_count": 56,
     "metadata": {},
     "output_type": "execute_result"
    }
   ],
   "source": [
    "\"\"\" Viết một hàm dem_so_chu_so(n) nhận vào một số nguyên dương n và đếm số chữ số của n\n",
    "\"\"\"\n",
    "\n",
    "n = int(input('Nhập số nguyên dương: '))\n",
    "\n",
    "while n < 0:\n",
    "    n = int(input('Nhập số > 0: '))\n",
    "    \n",
    "len(str(n))"
   ]
  }
 ],
 "metadata": {
  "kernelspec": {
   "display_name": "vscode",
   "language": "python",
   "name": "python3"
  },
  "language_info": {
   "codemirror_mode": {
    "name": "ipython",
    "version": 3
   },
   "file_extension": ".py",
   "mimetype": "text/x-python",
   "name": "python",
   "nbconvert_exporter": "python",
   "pygments_lexer": "ipython3",
   "version": "3.9.7"
  }
 },
 "nbformat": 4,
 "nbformat_minor": 2
}
